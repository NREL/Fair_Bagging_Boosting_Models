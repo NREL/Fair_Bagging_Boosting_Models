{
 "cells": [
  {
   "cell_type": "code",
   "execution_count": 1,
   "metadata": {},
   "outputs": [
    {
     "name": "stderr",
     "output_type": "stream",
     "text": [
      "/Users/ebensen/opt/anaconda3/envs/ai_bias/lib/python3.10/site-packages/xgboost/compat.py:36: FutureWarning: pandas.Int64Index is deprecated and will be removed from pandas in a future version. Use pandas.Index with the appropriate dtype instead.\n",
      "  from pandas import MultiIndex, Int64Index\n"
     ]
    }
   ],
   "source": [
    "import numpy as np\n",
    "import pandas as pd \n",
    "import matplotlib.pyplot as plt\n",
    "from test_bias import test_bias, train_test_bias\n",
    "from plotting import plot_bias\n",
    "import xgboost as xgb\n",
    "import warnings\n",
    "warnings.filterwarnings(\"ignore\")"
   ]
  },
  {
   "cell_type": "code",
   "execution_count": 2,
   "metadata": {},
   "outputs": [
    {
     "name": "stdout",
     "output_type": "stream",
     "text": [
      "Index(['Temp', 'WindSp', 'Precip', 'Snow', 'StationId', 'Date', 'Dir', 'Long',\n",
      "       'Lat', 'NumberOfLanes', 'FC', 'SpeedLimit', 'FRC', 'DayOfWeek', 'Month',\n",
      "       'Hour', 'AvgSp', 'ProbeCount', 'Volume', 'PenRate',\n",
      "       'ProbeCountLastWeek', 'AvgProbeCountLastMonth', 'fold'],\n",
      "      dtype='object')\n",
      "2019-01-07\n",
      "2019-06-13\n"
     ]
    },
    {
     "data": {
      "text/plain": [
       "5    0.373221\n",
       "6    0.301601\n",
       "4    0.164702\n",
       "2    0.120552\n",
       "3    0.039924\n",
       "Name: FRC, dtype: float64"
      ]
     },
     "execution_count": 2,
     "metadata": {},
     "output_type": "execute_result"
    }
   ],
   "source": [
    "data = pd.read_csv('../data/final_train_data.csv')\n",
    "print(data.columns)\n",
    "# Print min and max date\n",
    "print(data['Date'].min())\n",
    "print(data['Date'].max())\n",
    "data['FRC'].value_counts(normalize=True)\n"
   ]
  },
  {
   "attachments": {},
   "cell_type": "markdown",
   "metadata": {},
   "source": [
    "# Plot Function"
   ]
  },
  {
   "cell_type": "code",
   "execution_count": 3,
   "metadata": {},
   "outputs": [
    {
     "data": {
      "text/html": [
       "<div>\n",
       "<style scoped>\n",
       "    .dataframe tbody tr th:only-of-type {\n",
       "        vertical-align: middle;\n",
       "    }\n",
       "\n",
       "    .dataframe tbody tr th {\n",
       "        vertical-align: top;\n",
       "    }\n",
       "\n",
       "    .dataframe thead th {\n",
       "        text-align: right;\n",
       "    }\n",
       "</style>\n",
       "<table border=\"1\" class=\"dataframe\">\n",
       "  <thead>\n",
       "    <tr style=\"text-align: right;\">\n",
       "      <th></th>\n",
       "      <th>Demographic</th>\n",
       "      <th>r2_0</th>\n",
       "      <th>r2_1</th>\n",
       "      <th>pval</th>\n",
       "      <th>Sig at 0.05</th>\n",
       "      <th>Sig at 0.01</th>\n",
       "      <th>Sig at 0.001</th>\n",
       "      <th>r2_diff</th>\n",
       "    </tr>\n",
       "  </thead>\n",
       "  <tbody>\n",
       "    <tr>\n",
       "      <th>6</th>\n",
       "      <td>MINRTY_0.6</td>\n",
       "      <td>0.918227</td>\n",
       "      <td>0.813637</td>\n",
       "      <td>0.0002</td>\n",
       "      <td>True</td>\n",
       "      <td>True</td>\n",
       "      <td>True</td>\n",
       "      <td>0.104590</td>\n",
       "    </tr>\n",
       "    <tr>\n",
       "      <th>21</th>\n",
       "      <td>MINRTY_0.7</td>\n",
       "      <td>0.915285</td>\n",
       "      <td>0.798684</td>\n",
       "      <td>0.0002</td>\n",
       "      <td>True</td>\n",
       "      <td>True</td>\n",
       "      <td>True</td>\n",
       "      <td>0.116602</td>\n",
       "    </tr>\n",
       "    <tr>\n",
       "      <th>36</th>\n",
       "      <td>MINRTY_0.8</td>\n",
       "      <td>0.901330</td>\n",
       "      <td>0.684621</td>\n",
       "      <td>0.0000</td>\n",
       "      <td>True</td>\n",
       "      <td>True</td>\n",
       "      <td>True</td>\n",
       "      <td>0.216710</td>\n",
       "    </tr>\n",
       "    <tr>\n",
       "      <th>51</th>\n",
       "      <td>MINRTY_0.9</td>\n",
       "      <td>0.899442</td>\n",
       "      <td>0.488900</td>\n",
       "      <td>0.0000</td>\n",
       "      <td>True</td>\n",
       "      <td>True</td>\n",
       "      <td>True</td>\n",
       "      <td>0.410542</td>\n",
       "    </tr>\n",
       "    <tr>\n",
       "      <th>0</th>\n",
       "      <td>MINRTY_0.6</td>\n",
       "      <td>0.895427</td>\n",
       "      <td>0.807532</td>\n",
       "      <td>0.0010</td>\n",
       "      <td>True</td>\n",
       "      <td>True</td>\n",
       "      <td>False</td>\n",
       "      <td>0.087895</td>\n",
       "    </tr>\n",
       "    <tr>\n",
       "      <th>1</th>\n",
       "      <td>MINRTY_0.7</td>\n",
       "      <td>0.895056</td>\n",
       "      <td>0.790271</td>\n",
       "      <td>0.0001</td>\n",
       "      <td>True</td>\n",
       "      <td>True</td>\n",
       "      <td>True</td>\n",
       "      <td>0.104785</td>\n",
       "    </tr>\n",
       "    <tr>\n",
       "      <th>2</th>\n",
       "      <td>MINRTY_0.8</td>\n",
       "      <td>0.882338</td>\n",
       "      <td>0.696909</td>\n",
       "      <td>0.0000</td>\n",
       "      <td>True</td>\n",
       "      <td>True</td>\n",
       "      <td>True</td>\n",
       "      <td>0.185429</td>\n",
       "    </tr>\n",
       "    <tr>\n",
       "      <th>3</th>\n",
       "      <td>MINRTY_0.9</td>\n",
       "      <td>0.879925</td>\n",
       "      <td>0.533559</td>\n",
       "      <td>0.0000</td>\n",
       "      <td>True</td>\n",
       "      <td>True</td>\n",
       "      <td>True</td>\n",
       "      <td>0.346366</td>\n",
       "    </tr>\n",
       "  </tbody>\n",
       "</table>\n",
       "</div>"
      ],
      "text/plain": [
       "   Demographic      r2_0      r2_1    pval  Sig at 0.05  Sig at 0.01  \\\n",
       "6   MINRTY_0.6  0.918227  0.813637  0.0002         True         True   \n",
       "21  MINRTY_0.7  0.915285  0.798684  0.0002         True         True   \n",
       "36  MINRTY_0.8  0.901330  0.684621  0.0000         True         True   \n",
       "51  MINRTY_0.9  0.899442  0.488900  0.0000         True         True   \n",
       "0   MINRTY_0.6  0.895427  0.807532  0.0010         True         True   \n",
       "1   MINRTY_0.7  0.895056  0.790271  0.0001         True         True   \n",
       "2   MINRTY_0.8  0.882338  0.696909  0.0000         True         True   \n",
       "3   MINRTY_0.9  0.879925  0.533559  0.0000         True         True   \n",
       "\n",
       "    Sig at 0.001   r2_diff  \n",
       "6           True  0.104590  \n",
       "21          True  0.116602  \n",
       "36          True  0.216710  \n",
       "51          True  0.410542  \n",
       "0          False  0.087895  \n",
       "1           True  0.104785  \n",
       "2           True  0.185429  \n",
       "3           True  0.346366  "
      ]
     },
     "execution_count": 3,
     "metadata": {},
     "output_type": "execute_result"
    }
   ],
   "source": [
    "odata = pd.read_csv('../data/binary_bias_fdr.csv')\n",
    "odata = odata[(odata['Demographic']=='MINRTY_0.6') | (odata['Demographic']=='MINRTY_0.7') | (odata['Demographic']=='MINRTY_0.8') | (odata['Demographic']=='MINRTY_0.9')]\n",
    "odata['r2_diff'] = abs(odata['r2_1'] - odata['r2_0']) \n",
    "data0 = pd.read_csv('../data/test_data_MINRTY_etype_0_opt_gamma.csv')[odata.columns]\n",
    "plot_data = pd.concat([odata, data0])\n",
    "plot_data "
   ]
  },
  {
   "cell_type": "code",
   "execution_count": 4,
   "metadata": {},
   "outputs": [
    {
     "data": {
      "image/png": "[encoded data removed]",
      "text/plain": [
       "<Figure size 1200x700 with 1 Axes>"
      ]
     },
     "metadata": {},
     "output_type": "display_data"
    }
   ],
   "source": [
    "labels = ['Original', 'Corrected']\n",
    "fig = plot_bias(plot_data, labels)"
   ]
  },
  {
   "attachments": {},
   "cell_type": "markdown",
   "metadata": {},
   "source": [
    "# Test Bias Function"
   ]
  },
  {
   "cell_type": "code",
   "execution_count": 5,
   "metadata": {},
   "outputs": [],
   "source": [
    "params = {'colsample': 0.8881316595971249,\n",
    " 'depth': 8.39625354272183,\n",
    " 'g': -1.6269034904493944,\n",
    " 'min_cw': 5.652800886786517,\n",
    " 'n': 4.817420401698789,\n",
    " 'p': -1.5962868458248356,\n",
    " 'subsample': 0.5067325518969111}"
   ]
  },
  {
   "cell_type": "code",
   "execution_count": 6,
   "metadata": {},
   "outputs": [],
   "source": [
    "from typing import Iterable\n",
    "def add_demographic_data(data, demo):\n",
    "    if isinstance(demo, str):\n",
    "        demo = [demo]\n",
    "    demos = pd.read_csv('../data/off_freeway_station_demographics.csv')\n",
    "    cols = ['STN_NUMBER'] +['EPL_' + d for d in demo]\n",
    "    demos = demos[cols]\n",
    "    # rename columns\n",
    "    dct = {'EPL_'+d:d for d in demo}\n",
    "    demos.rename(columns=dct, inplace=True)\n",
    "    demos.rename(columns={'STN_NUMBER':'StationId'}, inplace=True)  \n",
    "    data = pd.merge(data, demos, on='StationId', how='left')\n",
    "    return data\n",
    "\n",
    "def to_dmatrix(X, y):\n",
    "    # get number of columns of np array X\n",
    "    n_cols = X.shape[1]\n",
    "    weights = [1.0 for _ in range(n_cols-1)] + [0.0]\n",
    "    return xgb.DMatrix(X, label=y, feature_weights=weights)"
   ]
  },
  {
   "cell_type": "code",
   "execution_count": 7,
   "metadata": {},
   "outputs": [],
   "source": [
    "demographic = 'MINRTY'\n",
    "cols_drop = ['Date', 'FC', 'PenRate', 'NumberOfLanes', 'Dir', 'Lat', 'Long', 'StationId']\n",
    "\n",
    "raw_data_train = pd.read_csv(\"../data/final_train_data.csv\")\n",
    "raw_data_test = pd.read_csv(\"../data/final_test_data.csv\")\n",
    "raw_data_test1 = pd.DataFrame(np.concatenate((raw_data_test.values, np.zeros(raw_data_test.shape[0]).reshape(-1, 1)), axis=1),\n",
    "                                columns = raw_data_test.columns.append(pd.Index(['fold'])))\n",
    "raw_data = pd.DataFrame(np.concatenate((raw_data_train.values, raw_data_test1.values), axis=0), \n",
    "                        columns = raw_data_train.columns)\n",
    "\n",
    "raw_data = add_demographic_data(raw_data, demographic)\n",
    "raw_data = raw_data.dropna()\n",
    "raw_data_train = raw_data.loc[raw_data.fold!=0, :]\n",
    "raw_data_test = raw_data.loc[raw_data.fold==0, :]\n",
    "data = raw_data.drop(cols_drop, axis=1)\n",
    "if 'Dir' in data.columns:\n",
    "    one_hot = pd.get_dummies(data[['Dir']])\n",
    "    data = data.drop(['Dir'], axis = 1)\n",
    "    data = data.join(one_hot)\n",
    "week_dict = {\"DayOfWeek\": {'Monday': 1, 'Tuesday': 2, 'Wednesday': 3, 'Thursday': 4, \n",
    "                            'Friday': 5, 'Saturday': 6, 'Sunday': 7}}\n",
    "data = data.replace(week_dict)\n",
    "\n",
    "X = data.drop(['Volume'], axis=1)\n",
    "y = data[['Volume']]\n",
    "\n",
    "X_train = X.loc[X.fold!=0, :]\n",
    "dem_train = X_train[[demographic]].values\n",
    "fold_train = X_train[['fold']].values.reshape(-1)\n",
    "X_col = X_train.drop(['fold'], axis = 1).columns\n",
    "X_train = X_train.drop(['fold'], axis = 1).values\n",
    "y_train = y.loc[X.fold!=0, :].values\n",
    "\n",
    "X_test = X.loc[X.fold==0, :]\n",
    "dem_test = X_test[[demographic]].values\n",
    "X_test = X_test.drop(['fold'], axis = 1).values\n",
    "y_test = y.loc[X.fold==0, :].values"
   ]
  },
  {
   "cell_type": "code",
   "execution_count": 8,
   "metadata": {},
   "outputs": [],
   "source": [
    "# Test Results\n",
    "from loss_functions import get_pearson_corrected_mse\n",
    "n_nodes = -1\n",
    "gamma = 0\n",
    "train_data = to_dmatrix(X_train, y_train) # Training the model on all of the training data\n",
    "xgb_params = {'learning_rate': 10**params['p'], 'max_depth': int(params['depth']), 'n_jobs': n_nodes, 'gamma': 10**params['g'],\n",
    "                'min_child_weight': params['min_cw'], 'subsample': params['subsample'],\n",
    "                'colsample_bytree': params['colsample'], 'random_state': 1234}\n",
    "objective = get_pearson_corrected_mse(gamma, compiled=True)\n",
    "xgb_test = xgb.train(xgb_params, train_data, num_boost_round = int(params['n'])*100, obj=objective)\n",
    "test_data = to_dmatrix(X_test, y_test)"
   ]
  },
  {
   "cell_type": "code",
   "execution_count": 9,
   "metadata": {},
   "outputs": [],
   "source": [
    "# dem_df = pd.DataFrame(dem_test, columns=[demographic])\n",
    "# test_df = test_bias(xgb_test, test_data, dem_df, qvals=[0.05, 0.01, 0.001, 0.0001], cutoffs=[0.1, 0.5, 0.6, 0.7, 0.8, 0.9])\n",
    "# test_df"
   ]
  },
  {
   "attachments": {},
   "cell_type": "markdown",
   "metadata": {},
   "source": [
    "# Multi - Test and Plot"
   ]
  },
  {
   "cell_type": "code",
   "execution_count": 10,
   "metadata": {},
   "outputs": [],
   "source": [
    "demlist = ['AGE17', 'AGE65', 'CROWD', 'DISABL', 'GROUPQ', \n",
    "           'LIMENG', 'MINRTY', 'MOBILE', 'MUNIT', 'NOHSDP', \n",
    "           'NOVEH', 'PCI', 'POV', 'SNGPNT', 'UNEMP']\n",
    "# demlist = ['MINRTY']"
   ]
  },
  {
   "cell_type": "code",
   "execution_count": 11,
   "metadata": {},
   "outputs": [],
   "source": [
    "cols_drop = ['Date', 'FC', 'PenRate', 'NumberOfLanes', 'Dir', 'Lat', 'Long']\n",
    "raw_data_train = pd.read_csv(\"../data/final_train_data.csv\")\n",
    "raw_data_test = pd.read_csv(\"../data/final_test_data.csv\")\n",
    "raw_data_test1 = pd.DataFrame(np.concatenate((raw_data_test.values, np.zeros(raw_data_test.shape[0]).reshape(-1, 1)), axis=1),\n",
    "                                columns = raw_data_test.columns.append(pd.Index(['fold'])))\n",
    "raw_data = pd.DataFrame(np.concatenate((raw_data_train.values, raw_data_test1.values), axis=0), \n",
    "                        columns = raw_data_train.columns)\n",
    "\n",
    "raw_data = raw_data.dropna()\n",
    "raw_data_train = raw_data.loc[raw_data.fold!=0, :]\n",
    "raw_data_test = raw_data.loc[raw_data.fold==0, :]\n",
    "data = raw_data.drop(cols_drop, axis=1)\n",
    "if 'Dir' in data.columns:\n",
    "    one_hot = pd.get_dummies(data[['Dir']])\n",
    "    data = data.drop(['Dir'], axis = 1)\n",
    "    data = data.join(one_hot)\n",
    "week_dict = {\"DayOfWeek\": {'Monday': 1, 'Tuesday': 2, 'Wednesday': 3, 'Thursday': 4, \n",
    "                            'Friday': 5, 'Saturday': 6, 'Sunday': 7}}\n",
    "data = data.replace(week_dict)\n",
    "\n",
    "X = data.drop(['Volume'], axis=1)\n",
    "y = data[['Volume']]\n",
    "\n",
    "X_train = X.loc[X.fold!=0, :]\n",
    "X_col = X_train.drop(['fold'], axis = 1).columns\n",
    "X_train = X_train.drop(['fold'], axis = 1)\n",
    "y_train = y.loc[X.fold!=0, :]\n",
    "train_data = pd.concat([X_train, y_train], axis=1)\n",
    "train_data = train_data.dropna()\n",
    "\n",
    "X_test = X.loc[X.fold==0, :]\n",
    "X_test = X_test.drop(['fold'], axis = 1)\n",
    "y_test = y.loc[X.fold==0, :]\n",
    "test_data = pd.concat([X_test, y_test], axis=1)\n",
    "test_data = test_data.dropna()"
   ]
  },
  {
   "cell_type": "code",
   "execution_count": 12,
   "metadata": {},
   "outputs": [
    {
     "data": {
      "text/plain": [
       "Index(['Temp', 'WindSp', 'Precip', 'Snow', 'StationId', 'SpeedLimit', 'FRC',\n",
       "       'DayOfWeek', 'Month', 'Hour', 'AvgSp', 'ProbeCount',\n",
       "       'ProbeCountLastWeek', 'AvgProbeCountLastMonth', 'Volume'],\n",
       "      dtype='object')"
      ]
     },
     "execution_count": 12,
     "metadata": {},
     "output_type": "execute_result"
    }
   ],
   "source": [
    "test_data.columns"
   ]
  },
  {
   "cell_type": "code",
   "execution_count": 13,
   "metadata": {},
   "outputs": [],
   "source": [
    "# out_data = train_test_bias(train_data, test_data, demlist, params)"
   ]
  },
  {
   "cell_type": "code",
   "execution_count": 14,
   "metadata": {},
   "outputs": [],
   "source": [
    "# out_data"
   ]
  },
  {
   "cell_type": "code",
   "execution_count": 15,
   "metadata": {},
   "outputs": [],
   "source": [
    "labels = demlist\n",
    "# fig = plot_bias(out_data, labels, figsize=(25, 10))"
   ]
  },
  {
   "attachments": {},
   "cell_type": "markdown",
   "metadata": {},
   "source": [
    "# Test RF"
   ]
  },
  {
   "cell_type": "code",
   "execution_count": 16,
   "metadata": {},
   "outputs": [],
   "source": [
    "demlist = ['MINRTY']"
   ]
  },
  {
   "cell_type": "code",
   "execution_count": 17,
   "metadata": {},
   "outputs": [],
   "source": [
    "# out_data = train_test_bias(train_data, test_data, demlist, params, model_type='rf')\n",
    "# labels = demlist\n",
    "# fig = plot_bias(out_data, labels)"
   ]
  },
  {
   "attachments": {},
   "cell_type": "markdown",
   "metadata": {},
   "source": [
    "# Test GBT"
   ]
  },
  {
   "cell_type": "code",
   "execution_count": 18,
   "metadata": {},
   "outputs": [],
   "source": [
    "# out_data = train_test_bias(train_data, test_data, demlist, params, model_type='gbt')\n",
    "# labels = demlist\n",
    "# fig = plot_bias(out_data, labels)"
   ]
  },
  {
   "attachments": {},
   "cell_type": "markdown",
   "metadata": {},
   "source": [
    "# Optimizers"
   ]
  },
  {
   "cell_type": "code",
   "execution_count": 19,
   "metadata": {},
   "outputs": [],
   "source": [
    "demographic = 'MINRTY'\n",
    "cols_drop = ['Date', 'FC', 'PenRate', 'NumberOfLanes', 'Dir', 'Lat', 'Long', 'StationId']\n",
    "\n",
    "raw_data_train = pd.read_csv(\"../data/final_train_data.csv\")\n",
    "raw_data_test = pd.read_csv(\"../data/final_test_data.csv\")\n",
    "raw_data_test1 = pd.DataFrame(np.concatenate((raw_data_test.values, np.zeros(raw_data_test.shape[0]).reshape(-1, 1)), axis=1),\n",
    "                                columns = raw_data_test.columns.append(pd.Index(['fold'])))\n",
    "raw_data = pd.DataFrame(np.concatenate((raw_data_train.values, raw_data_test1.values), axis=0), \n",
    "                        columns = raw_data_train.columns)\n",
    "\n",
    "raw_data = add_demographic_data(raw_data, demographic)\n",
    "raw_data = raw_data.dropna()\n",
    "raw_data_train = raw_data.loc[raw_data.fold!=0, :]\n",
    "raw_data_test = raw_data.loc[raw_data.fold==0, :]\n",
    "data = raw_data.drop(cols_drop, axis=1)\n",
    "if 'Dir' in data.columns:\n",
    "    one_hot = pd.get_dummies(data[['Dir']])\n",
    "    data = data.drop(['Dir'], axis = 1)\n",
    "    data = data.join(one_hot)\n",
    "week_dict = {\"DayOfWeek\": {'Monday': 1, 'Tuesday': 2, 'Wednesday': 3, 'Thursday': 4, \n",
    "                            'Friday': 5, 'Saturday': 6, 'Sunday': 7}}\n",
    "data = data.replace(week_dict)\n",
    "\n",
    "X = data.drop(['Volume'], axis=1)\n",
    "y = data[['Volume']]\n",
    "\n",
    "X_train = X.loc[X.fold!=0, :]\n",
    "dem_train = X_train[[demographic]].values\n",
    "fold_train = X_train[['fold']].values.reshape(-1)\n",
    "X_col = X_train.drop(['fold'], axis = 1).columns\n",
    "X_train = X_train.drop(['fold'], axis = 1).values\n",
    "y_train = y.loc[X.fold!=0, :].values\n",
    "\n",
    "X_test = X.loc[X.fold==0, :]\n",
    "dem_test = X_test[[demographic]].values\n",
    "X_test = X_test.drop(['fold'], axis = 1).values\n",
    "y_test = y.loc[X.fold==0, :].values"
   ]
  },
  {
   "cell_type": "code",
   "execution_count": 20,
   "metadata": {},
   "outputs": [
    {
     "name": "stdout",
     "output_type": "stream",
     "text": [
      "8968 8968 8968\n"
     ]
    }
   ],
   "source": [
    "from optimizers import XGBOpt, RFOpt, GBTOpt\n",
    "print(len(dem_train), len(y_train), len(fold_train))\n",
    "xgbopt = XGBOpt(X_train, y_train, fold_train, dem_train)\n",
    "# xgbopt.run('./test_results/xgb', 0, 1) # Working"
   ]
  },
  {
   "cell_type": "code",
   "execution_count": 21,
   "metadata": {},
   "outputs": [],
   "source": [
    "rfopt = RFOpt(X_train, y_train, fold_train, dem_train)\n",
    "# rfopt.run('./test_results/rf', 0, 1) # Working"
   ]
  },
  {
   "cell_type": "code",
   "execution_count": 22,
   "metadata": {},
   "outputs": [],
   "source": [
    "gbtopt = GBTOpt(X_train, y_train, fold_train, dem_train)\n",
    "# gbtopt.run('./test_results/gbt', 0, 1)"
   ]
  },
  {
   "attachments": {},
   "cell_type": "markdown",
   "metadata": {},
   "source": [
    "# Compiled Kendall"
   ]
  },
  {
   "cell_type": "code",
   "execution_count": 23,
   "metadata": {},
   "outputs": [],
   "source": [
    "import numpy as np \n",
    "import xgboost as xgb\n",
    "from typing import Tuple, Callable\n",
    "import pandas as pd\n",
    "from dmatrix2np import dmatrix_to_numpy\n",
    "import os \n",
    "from ctypes import cdll, c_double, c_int, POINTER\n",
    "from numpy.ctypeslib import ndpointer, as_ctypes\n",
    "import pandas as pd\n",
    "from scipy import stats\n",
    "from datetime import datetime\n",
    "from loss_functions import kendalls_correlation_penalty_raw_resid as kendall_python"
   ]
  },
  {
   "cell_type": "code",
   "execution_count": 24,
   "metadata": {},
   "outputs": [],
   "source": [
    "lib = cdll.LoadLibrary('./compiled_loss_funcs/libcorrections.so')\n",
    "f = lib.kendall_raw_resid\n",
    "f.argtypes = [ndpointer(c_double, flags=\"C_CONTIGUOUS\"),  # Tell python the data types of the inputs\n",
    "                ndpointer(c_double, flags=\"C_CONTIGUOUS\"),\n",
    "                ndpointer(c_double, flags=\"C_CONTIGUOUS\"),\n",
    "                c_int]\n",
    "f.restype = POINTER(c_double) # Tell python the output is a pointer to a double\n",
    "\n",
    "def kendall_cpp(predt: np.ndarray, dtrain: xgb.DMatrix) -> Tuple[np.ndarray, np.ndarray]:\n",
    "    n = len(predt)\n",
    "    dems = dmatrix_to_numpy(dtrain)[:, -1].astype(np.float64) # Inputs must be np.float64!!!\n",
    "    true_vals = dtrain.get_label().astype(np.float64)\n",
    "    pred = predt.astype(np.float64)\n",
    "\n",
    "    outptr = f(pred, true_vals, dems, n) # Returns a pointer\n",
    "    c_out = np.ctypeslib.as_array(outptr, shape=(2*n,)) # Convert to numpy array\n",
    "    grad = c_out[:n]\n",
    "    hess = c_out[n:]\n",
    "    lib.free_ptr(outptr)\n",
    "    return grad, hess"
   ]
  },
  {
   "cell_type": "code",
   "execution_count": 25,
   "metadata": {},
   "outputs": [],
   "source": [
    "train_data = to_dmatrix(X_train, y_train) # Training the model on all of the training data\n",
    "xgb_params = {'learning_rate': 10**params['p'], 'max_depth': int(params['depth']), 'n_jobs': n_nodes, 'gamma': 10**params['g'],\n",
    "                'min_child_weight': params['min_cw'], 'subsample': params['subsample'],\n",
    "                'colsample_bytree': params['colsample'], 'random_state': 1234}\n",
    "objective = get_pearson_corrected_mse(gamma, compiled=True)\n",
    "xgb_test = xgb.train(xgb_params, train_data, num_boost_round = int(params['n'])*100, obj=objective)\n",
    "test_data = to_dmatrix(X_test, y_test)"
   ]
  },
  {
   "cell_type": "code",
   "execution_count": 26,
   "metadata": {},
   "outputs": [
    {
     "name": "stdout",
     "output_type": "stream",
     "text": [
      "starts here 15:22:45\n",
      "gradient:  [-3.17315599e-103 -3.01777306e-055  3.01777306e-055 -5.77321546e-063\n",
      " -1.50914530e-032]\n",
      "hessian:  [-1.87292528e-101 -1.78121198e-053  1.78121198e-053 -3.40758577e-061\n",
      " -8.90758724e-031]\n"
     ]
    }
   ],
   "source": [
    "pred_test = xgb_test.predict(test_data)\n",
    "grad_python, hess_python = kendall_python(pred_test, test_data)\n",
    "print('gradient: ', grad_python[0:5])\n",
    "print('hessian: ', hess_python[0:5])"
   ]
  },
  {
   "cell_type": "code",
   "execution_count": 27,
   "metadata": {},
   "outputs": [
    {
     "name": "stdout",
     "output_type": "stream",
     "text": [
      "gradient:  [-3.17296232e-103 -3.01758888e-055  3.01758888e-055 -5.77303928e-063\n",
      " -1.50914530e-032]\n",
      "hessian:  [-1.87281097e-101 -1.78110327e-053  1.78110327e-053 -3.40748178e-061\n",
      " -8.90758725e-031]\n"
     ]
    }
   ],
   "source": [
    "grad_cpp, hess_cpp = kendall_cpp(pred_test, test_data)\n",
    "print('gradient: ', grad_cpp[0:5])\n",
    "print('hessian: ', hess_cpp[0:5])"
   ]
  },
  {
   "cell_type": "code",
   "execution_count": null,
   "metadata": {},
   "outputs": [],
   "source": []
  }
 ],
 "metadata": {
  "kernelspec": {
   "display_name": "ai_bias",
   "language": "python",
   "name": "python3"
  },
  "language_info": {
   "codemirror_mode": {
    "name": "ipython",
    "version": 3
   },
   "file_extension": ".py",
   "mimetype": "text/x-python",
   "name": "python",
   "nbconvert_exporter": "python",
   "pygments_lexer": "ipython3",
   "version": "3.10.5 | packaged by conda-forge | (main, Jun 14 2022, 07:03:09) [Clang 13.0.1 ]"
  },
  "orig_nbformat": 4,
  "vscode": {
   "interpreter": {
    "hash": "569edf43faa1475b39155efdd94f8fadb2a8220c5b3e6872c2212344e9f1c57f"
   }
  }
 },
 "nbformat": 4,
 "nbformat_minor": 2
}
